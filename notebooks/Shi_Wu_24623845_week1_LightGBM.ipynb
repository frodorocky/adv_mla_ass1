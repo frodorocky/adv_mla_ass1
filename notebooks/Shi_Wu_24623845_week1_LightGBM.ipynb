{
 "cells": [
  {
   "cell_type": "markdown",
   "id": "69a68a21",
   "metadata": {},
   "source": [
    "# Experiment1_LightGBM"
   ]
  },
  {
   "cell_type": "markdown",
   "id": "12690721",
   "metadata": {},
   "source": [
    "This notebook will use LightGBM to predict whether a college basketball player will be drafted into the NBA based solely on season statistics. This model helps NBA teams decide who to watch in person, plan for the draft, and see if their own ratings match the predictions. "
   ]
  },
  {
   "cell_type": "markdown",
   "id": "bf45cef1",
   "metadata": {},
   "source": [
    "The steps are:\n",
    "1. Setting up new Git Repository\n",
    "2. Load and Explore data\n",
    "3. Data preparation\n",
    "4. Train Classifiers\n",
    "5. Prediction\n",
    "6. Feature importance\n",
    "7. Push changes"
   ]
  },
  {
   "cell_type": "code",
   "execution_count": 1,
   "id": "7616f851",
   "metadata": {},
   "outputs": [],
   "source": [
    "import pandas as pd\n",
    "import numpy as np\n",
    "import shap\n",
    "import seaborn as sns\n",
    "import matplotlib.pyplot as plt\n",
    "import matplotlib\n",
    "matplotlib.use('Qt5Agg') \n",
    "%matplotlib inline\n",
    "import joblib\n",
    "\n",
    "from sklearn.model_selection import train_test_split\n",
    "from sklearn.pipeline import Pipeline, make_pipeline\n",
    "from sklearn.model_selection import GridSearchCV, RandomizedSearchCV\n",
    "from sklearn.preprocessing import OneHotEncoder, LabelEncoder, OrdinalEncoder, FunctionTransformer\n",
    "from sklearn.compose import ColumnTransformer\n",
    "from sklearn.impute import SimpleImputer\n",
    "from sklearn.metrics import accuracy_score, precision_score, recall_score, f1_score, roc_auc_score\n",
    "from lightgbm import LGBMClassifier"
   ]
  },
  {
   "cell_type": "markdown",
   "id": "67e13f22",
   "metadata": {},
   "source": [
    "## 1. Setting up Git Repository"
   ]
  },
  {
   "cell_type": "markdown",
   "id": "3c7e119b",
   "metadata": {},
   "source": [
    "**[1.1]** Go to the folder I created previously `adv_mla`"
   ]
  },
  {
   "cell_type": "code",
   "execution_count": 2,
   "id": "ecd3bf1f",
   "metadata": {},
   "outputs": [
    {
     "name": "stdout",
     "output_type": "stream",
     "text": [
      "/Users/frodo/Downloads/36120/Project/adv_mla/ass1\n"
     ]
    }
   ],
   "source": [
    "cd /Users/frodo/Downloads/36120/Project/adv_mla/ass1/"
   ]
  },
  {
   "cell_type": "markdown",
   "id": "a874f6f9",
   "metadata": {},
   "source": [
    "**[1.2]** Copy the cookiecutter data science template"
   ]
  },
  {
   "cell_type": "code",
   "execution_count": null,
   "id": "48bb495a",
   "metadata": {},
   "outputs": [],
   "source": [
    "cookiecutter -c v1 https://github.com/drivendata/cookiecutter-data-science"
   ]
  },
  {
   "cell_type": "markdown",
   "id": "e2c442ea",
   "metadata": {},
   "source": [
    "**[1.3]** Initialise the repo"
   ]
  },
  {
   "cell_type": "code",
   "execution_count": null,
   "id": "06fe1378",
   "metadata": {},
   "outputs": [],
   "source": [
    "git init"
   ]
  },
  {
   "cell_type": "markdown",
   "id": "d9eb6180",
   "metadata": {},
   "source": [
    "**[1.4]** In your local repo, link it with Github (replace the url with your username)"
   ]
  },
  {
   "cell_type": "code",
   "execution_count": null,
   "id": "7479cacc",
   "metadata": {},
   "outputs": [],
   "source": [
    "git remote add origin git@github.com:frodorocky/ass1.git"
   ]
  },
  {
   "cell_type": "markdown",
   "id": "a3b307c7",
   "metadata": {},
   "source": [
    "**[1.5]** Create a new git branch called `first_experiment`"
   ]
  },
  {
   "cell_type": "code",
   "execution_count": null,
   "id": "f999c162",
   "metadata": {},
   "outputs": [],
   "source": [
    "git checkout -b first_experiment"
   ]
  },
  {
   "cell_type": "markdown",
   "id": "0bcdecc8",
   "metadata": {},
   "source": [
    "## 2. Load and explore data"
   ]
  },
  {
   "cell_type": "markdown",
   "id": "8ca83087",
   "metadata": {},
   "source": [
    "We will do data cleaning and data exploration simultaneously because data exploration often goes hand in hand with data cleaning processes in our experiment"
   ]
  },
  {
   "cell_type": "code",
   "execution_count": 9,
   "id": "469e323c",
   "metadata": {},
   "outputs": [],
   "source": [
    "from src.data.DataProcessor import DataProcessor"
   ]
  },
  {
   "cell_type": "markdown",
   "id": "a8cd96f1",
   "metadata": {},
   "source": [
    "**[2.1]** Load data and set the index of a DataFrame to the values of the column 'player_id'."
   ]
  },
  {
   "cell_type": "code",
   "execution_count": 10,
   "id": "f4665313",
   "metadata": {},
   "outputs": [
    {
     "name": "stderr",
     "output_type": "stream",
     "text": [
      "Columns (26) have mixed types. Specify dtype option on import or set low_memory=False.\n"
     ]
    }
   ],
   "source": [
    "train = DataProcessor.load_and_preprocess('data/raw/train.csv')"
   ]
  },
  {
   "cell_type": "markdown",
   "id": "aecb6796",
   "metadata": {},
   "source": [
    "**[2.2]** Display the first 5 rows of df"
   ]
  },
  {
   "cell_type": "code",
   "execution_count": 13,
   "id": "5b89a5dd",
   "metadata": {},
   "outputs": [
    {
     "data": {
      "text/html": [
       "<div>\n",
       "<style scoped>\n",
       "    .dataframe tbody tr th:only-of-type {\n",
       "        vertical-align: middle;\n",
       "    }\n",
       "\n",
       "    .dataframe tbody tr th {\n",
       "        vertical-align: top;\n",
       "    }\n",
       "\n",
       "    .dataframe thead th {\n",
       "        text-align: right;\n",
       "    }\n",
       "</style>\n",
       "<table border=\"1\" class=\"dataframe\">\n",
       "  <thead>\n",
       "    <tr style=\"text-align: right;\">\n",
       "      <th></th>\n",
       "      <th>team</th>\n",
       "      <th>conf</th>\n",
       "      <th>GP</th>\n",
       "      <th>Min_per</th>\n",
       "      <th>Ortg</th>\n",
       "      <th>usg</th>\n",
       "      <th>eFG</th>\n",
       "      <th>TS_per</th>\n",
       "      <th>ORB_per</th>\n",
       "      <th>DRB_per</th>\n",
       "      <th>...</th>\n",
       "      <th>ogbpm</th>\n",
       "      <th>dgbpm</th>\n",
       "      <th>oreb</th>\n",
       "      <th>dreb</th>\n",
       "      <th>treb</th>\n",
       "      <th>ast</th>\n",
       "      <th>stl</th>\n",
       "      <th>blk</th>\n",
       "      <th>pts</th>\n",
       "      <th>drafted</th>\n",
       "    </tr>\n",
       "    <tr>\n",
       "      <th>player_id</th>\n",
       "      <th></th>\n",
       "      <th></th>\n",
       "      <th></th>\n",
       "      <th></th>\n",
       "      <th></th>\n",
       "      <th></th>\n",
       "      <th></th>\n",
       "      <th></th>\n",
       "      <th></th>\n",
       "      <th></th>\n",
       "      <th></th>\n",
       "      <th></th>\n",
       "      <th></th>\n",
       "      <th></th>\n",
       "      <th></th>\n",
       "      <th></th>\n",
       "      <th></th>\n",
       "      <th></th>\n",
       "      <th></th>\n",
       "      <th></th>\n",
       "      <th></th>\n",
       "    </tr>\n",
       "  </thead>\n",
       "  <tbody>\n",
       "    <tr>\n",
       "      <th>7be2aead-da4e-4d13-a74b-4c1e692e2368</th>\n",
       "      <td>South Alabama</td>\n",
       "      <td>SB</td>\n",
       "      <td>26</td>\n",
       "      <td>29.5</td>\n",
       "      <td>97.3</td>\n",
       "      <td>16.6</td>\n",
       "      <td>42.5</td>\n",
       "      <td>44.43</td>\n",
       "      <td>1.6</td>\n",
       "      <td>4.6</td>\n",
       "      <td>...</td>\n",
       "      <td>-2.781990</td>\n",
       "      <td>-1.941150</td>\n",
       "      <td>0.1923</td>\n",
       "      <td>0.6154</td>\n",
       "      <td>0.8077</td>\n",
       "      <td>1.1923</td>\n",
       "      <td>0.3462</td>\n",
       "      <td>0.0385</td>\n",
       "      <td>3.8846</td>\n",
       "      <td>0.0</td>\n",
       "    </tr>\n",
       "    <tr>\n",
       "      <th>61de55d9-1582-4ea4-b593-44f6aa6524a6</th>\n",
       "      <td>Utah St.</td>\n",
       "      <td>WAC</td>\n",
       "      <td>34</td>\n",
       "      <td>60.9</td>\n",
       "      <td>108.3</td>\n",
       "      <td>14.9</td>\n",
       "      <td>52.4</td>\n",
       "      <td>54.48</td>\n",
       "      <td>3.8</td>\n",
       "      <td>6.3</td>\n",
       "      <td>...</td>\n",
       "      <td>-0.052263</td>\n",
       "      <td>-0.247934</td>\n",
       "      <td>0.6765</td>\n",
       "      <td>1.2647</td>\n",
       "      <td>1.9412</td>\n",
       "      <td>1.8235</td>\n",
       "      <td>0.4118</td>\n",
       "      <td>0.2353</td>\n",
       "      <td>5.9412</td>\n",
       "      <td>0.0</td>\n",
       "    </tr>\n",
       "    <tr>\n",
       "      <th>efdc4cfc-9dd0-4bf8-acef-7273e4d5b655</th>\n",
       "      <td>South Florida</td>\n",
       "      <td>BE</td>\n",
       "      <td>27</td>\n",
       "      <td>72.0</td>\n",
       "      <td>96.2</td>\n",
       "      <td>21.8</td>\n",
       "      <td>45.7</td>\n",
       "      <td>47.98</td>\n",
       "      <td>2.1</td>\n",
       "      <td>8.0</td>\n",
       "      <td>...</td>\n",
       "      <td>1.548230</td>\n",
       "      <td>-0.883163</td>\n",
       "      <td>0.6296</td>\n",
       "      <td>2.3333</td>\n",
       "      <td>2.9630</td>\n",
       "      <td>1.9630</td>\n",
       "      <td>0.4815</td>\n",
       "      <td>0.0000</td>\n",
       "      <td>12.1852</td>\n",
       "      <td>0.0</td>\n",
       "    </tr>\n",
       "    <tr>\n",
       "      <th>14f05660-bb3c-4868-b3dd-09bcdb64279d</th>\n",
       "      <td>Pepperdine</td>\n",
       "      <td>WCC</td>\n",
       "      <td>30</td>\n",
       "      <td>44.5</td>\n",
       "      <td>97.7</td>\n",
       "      <td>16.0</td>\n",
       "      <td>53.6</td>\n",
       "      <td>53.69</td>\n",
       "      <td>4.1</td>\n",
       "      <td>9.4</td>\n",
       "      <td>...</td>\n",
       "      <td>-0.342775</td>\n",
       "      <td>-0.393459</td>\n",
       "      <td>0.7000</td>\n",
       "      <td>1.4333</td>\n",
       "      <td>2.1333</td>\n",
       "      <td>1.1000</td>\n",
       "      <td>0.5667</td>\n",
       "      <td>0.1333</td>\n",
       "      <td>4.9333</td>\n",
       "      <td>0.0</td>\n",
       "    </tr>\n",
       "    <tr>\n",
       "      <th>a58db52f-fbba-4e7b-83d0-371efcfed039</th>\n",
       "      <td>Pacific</td>\n",
       "      <td>BW</td>\n",
       "      <td>33</td>\n",
       "      <td>56.2</td>\n",
       "      <td>96.5</td>\n",
       "      <td>22.0</td>\n",
       "      <td>52.8</td>\n",
       "      <td>54.31</td>\n",
       "      <td>8.3</td>\n",
       "      <td>18.6</td>\n",
       "      <td>...</td>\n",
       "      <td>-1.684860</td>\n",
       "      <td>-0.668318</td>\n",
       "      <td>1.4242</td>\n",
       "      <td>3.3030</td>\n",
       "      <td>4.7273</td>\n",
       "      <td>0.8485</td>\n",
       "      <td>0.4545</td>\n",
       "      <td>0.3333</td>\n",
       "      <td>7.5758</td>\n",
       "      <td>0.0</td>\n",
       "    </tr>\n",
       "  </tbody>\n",
       "</table>\n",
       "<p>5 rows × 63 columns</p>\n",
       "</div>"
      ],
      "text/plain": [
       "                                               team conf  GP  Min_per   Ortg  \\\n",
       "player_id                                                                      \n",
       "7be2aead-da4e-4d13-a74b-4c1e692e2368  South Alabama   SB  26     29.5   97.3   \n",
       "61de55d9-1582-4ea4-b593-44f6aa6524a6       Utah St.  WAC  34     60.9  108.3   \n",
       "efdc4cfc-9dd0-4bf8-acef-7273e4d5b655  South Florida   BE  27     72.0   96.2   \n",
       "14f05660-bb3c-4868-b3dd-09bcdb64279d     Pepperdine  WCC  30     44.5   97.7   \n",
       "a58db52f-fbba-4e7b-83d0-371efcfed039        Pacific   BW  33     56.2   96.5   \n",
       "\n",
       "                                       usg   eFG  TS_per  ORB_per  DRB_per  \\\n",
       "player_id                                                                    \n",
       "7be2aead-da4e-4d13-a74b-4c1e692e2368  16.6  42.5   44.43      1.6      4.6   \n",
       "61de55d9-1582-4ea4-b593-44f6aa6524a6  14.9  52.4   54.48      3.8      6.3   \n",
       "efdc4cfc-9dd0-4bf8-acef-7273e4d5b655  21.8  45.7   47.98      2.1      8.0   \n",
       "14f05660-bb3c-4868-b3dd-09bcdb64279d  16.0  53.6   53.69      4.1      9.4   \n",
       "a58db52f-fbba-4e7b-83d0-371efcfed039  22.0  52.8   54.31      8.3     18.6   \n",
       "\n",
       "                                      ...     ogbpm     dgbpm    oreb    dreb  \\\n",
       "player_id                             ...                                       \n",
       "7be2aead-da4e-4d13-a74b-4c1e692e2368  ... -2.781990 -1.941150  0.1923  0.6154   \n",
       "61de55d9-1582-4ea4-b593-44f6aa6524a6  ... -0.052263 -0.247934  0.6765  1.2647   \n",
       "efdc4cfc-9dd0-4bf8-acef-7273e4d5b655  ...  1.548230 -0.883163  0.6296  2.3333   \n",
       "14f05660-bb3c-4868-b3dd-09bcdb64279d  ... -0.342775 -0.393459  0.7000  1.4333   \n",
       "a58db52f-fbba-4e7b-83d0-371efcfed039  ... -1.684860 -0.668318  1.4242  3.3030   \n",
       "\n",
       "                                        treb     ast     stl     blk      pts  \\\n",
       "player_id                                                                       \n",
       "7be2aead-da4e-4d13-a74b-4c1e692e2368  0.8077  1.1923  0.3462  0.0385   3.8846   \n",
       "61de55d9-1582-4ea4-b593-44f6aa6524a6  1.9412  1.8235  0.4118  0.2353   5.9412   \n",
       "efdc4cfc-9dd0-4bf8-acef-7273e4d5b655  2.9630  1.9630  0.4815  0.0000  12.1852   \n",
       "14f05660-bb3c-4868-b3dd-09bcdb64279d  2.1333  1.1000  0.5667  0.1333   4.9333   \n",
       "a58db52f-fbba-4e7b-83d0-371efcfed039  4.7273  0.8485  0.4545  0.3333   7.5758   \n",
       "\n",
       "                                      drafted  \n",
       "player_id                                      \n",
       "7be2aead-da4e-4d13-a74b-4c1e692e2368      0.0  \n",
       "61de55d9-1582-4ea4-b593-44f6aa6524a6      0.0  \n",
       "efdc4cfc-9dd0-4bf8-acef-7273e4d5b655      0.0  \n",
       "14f05660-bb3c-4868-b3dd-09bcdb64279d      0.0  \n",
       "a58db52f-fbba-4e7b-83d0-371efcfed039      0.0  \n",
       "\n",
       "[5 rows x 63 columns]"
      ]
     },
     "execution_count": 13,
     "metadata": {},
     "output_type": "execute_result"
    }
   ],
   "source": [
    "train.head()"
   ]
  },
  {
   "cell_type": "markdown",
   "id": "4e4f7cca",
   "metadata": {},
   "source": [
    "**[2.3]** Display the shape of train data"
   ]
  },
  {
   "cell_type": "code",
   "execution_count": 14,
   "id": "ce3dc7b5",
   "metadata": {},
   "outputs": [
    {
     "data": {
      "text/plain": [
       "(56091, 63)"
      ]
     },
     "execution_count": 14,
     "metadata": {},
     "output_type": "execute_result"
    }
   ],
   "source": [
    "train.shape"
   ]
  },
  {
   "cell_type": "markdown",
   "id": "bc225bea",
   "metadata": {},
   "source": [
    "There are 56091 observations with 63 features"
   ]
  },
  {
   "cell_type": "markdown",
   "id": "a7e770a6",
   "metadata": {},
   "source": [
    "**[2.4]** Display the information of each columns"
   ]
  },
  {
   "cell_type": "code",
   "execution_count": 15,
   "id": "aa5def26",
   "metadata": {},
   "outputs": [
    {
     "name": "stdout",
     "output_type": "stream",
     "text": [
      "<class 'pandas.core.frame.DataFrame'>\n",
      "Index: 56091 entries, 7be2aead-da4e-4d13-a74b-4c1e692e2368 to 65571c18-b2b4-4ba6-84db-7357a76e6f59\n",
      "Data columns (total 63 columns):\n",
      " #   Column               Non-Null Count  Dtype  \n",
      "---  ------               --------------  -----  \n",
      " 0   team                 56091 non-null  object \n",
      " 1   conf                 56091 non-null  object \n",
      " 2   GP                   56091 non-null  int64  \n",
      " 3   Min_per              56091 non-null  float64\n",
      " 4   Ortg                 56091 non-null  float64\n",
      " 5   usg                  56091 non-null  float64\n",
      " 6   eFG                  56091 non-null  float64\n",
      " 7   TS_per               56091 non-null  float64\n",
      " 8   ORB_per              56091 non-null  float64\n",
      " 9   DRB_per              56091 non-null  float64\n",
      " 10  AST_per              56091 non-null  float64\n",
      " 11  TO_per               56091 non-null  float64\n",
      " 12  FTM                  56091 non-null  int64  \n",
      " 13  FTA                  56091 non-null  int64  \n",
      " 14  FT_per               56091 non-null  float64\n",
      " 15  twoPM                56091 non-null  int64  \n",
      " 16  twoPA                56091 non-null  int64  \n",
      " 17  twoP_per             56091 non-null  float64\n",
      " 18  TPM                  56091 non-null  int64  \n",
      " 19  TPA                  56091 non-null  int64  \n",
      " 20  TP_per               56091 non-null  float64\n",
      " 21  blk_per              56091 non-null  float64\n",
      " 22  stl_per              56091 non-null  float64\n",
      " 23  ftr                  56091 non-null  float64\n",
      " 24  yr                   55817 non-null  object \n",
      " 25  ht                   56011 non-null  object \n",
      " 26  num                  51422 non-null  object \n",
      " 27  porpag               56091 non-null  float64\n",
      " 28  adjoe                56091 non-null  float64\n",
      " 29  pfr                  56091 non-null  float64\n",
      " 30  year                 56091 non-null  int64  \n",
      " 31  type                 56091 non-null  object \n",
      " 32  Rec_Rank             17036 non-null  float64\n",
      " 33  ast_tov              51901 non-null  float64\n",
      " 34  rimmade              50010 non-null  float64\n",
      " 35  rimmade_rimmiss      50010 non-null  float64\n",
      " 36  midmade              50010 non-null  float64\n",
      " 37  midmade_midmiss      50010 non-null  float64\n",
      " 38  rim_ratio            46627 non-null  float64\n",
      " 39  mid_ratio            46403 non-null  float64\n",
      " 40  dunksmade            50010 non-null  float64\n",
      " 41  dunksmiss_dunksmade  50010 non-null  float64\n",
      " 42  dunks_ratio          25298 non-null  float64\n",
      " 43  pick                 1386 non-null   float64\n",
      " 44  drtg                 56047 non-null  float64\n",
      " 45  adrtg                56047 non-null  float64\n",
      " 46  dporpag              56047 non-null  float64\n",
      " 47  stops                56047 non-null  float64\n",
      " 48  bpm                  56047 non-null  float64\n",
      " 49  obpm                 56047 non-null  float64\n",
      " 50  dbpm                 56047 non-null  float64\n",
      " 51  gbpm                 56047 non-null  float64\n",
      " 52  mp                   56053 non-null  float64\n",
      " 53  ogbpm                56047 non-null  float64\n",
      " 54  dgbpm                56047 non-null  float64\n",
      " 55  oreb                 56053 non-null  float64\n",
      " 56  dreb                 56053 non-null  float64\n",
      " 57  treb                 56053 non-null  float64\n",
      " 58  ast                  56053 non-null  float64\n",
      " 59  stl                  56053 non-null  float64\n",
      " 60  blk                  56053 non-null  float64\n",
      " 61  pts                  56053 non-null  float64\n",
      " 62  drafted              56091 non-null  float64\n",
      "dtypes: float64(49), int64(8), object(6)\n",
      "memory usage: 27.4+ MB\n"
     ]
    }
   ],
   "source": [
    "train.info()"
   ]
  },
  {
   "cell_type": "markdown",
   "id": "c9dfbfc0",
   "metadata": {},
   "source": [
    "**[2.5]** compute missing ratio of each column"
   ]
  },
  {
   "cell_type": "code",
   "execution_count": 16,
   "id": "14e21633",
   "metadata": {},
   "outputs": [],
   "source": [
    "def compute_missing_ratio(df):\n",
    "    missing_ratio = df.isnull().sum() / len(df) * 100\n",
    "    missing_ratio_sorted = missing_ratio.sort_values(ascending=False)\n",
    "    return missing_ratio_sorted"
   ]
  },
  {
   "cell_type": "code",
   "execution_count": 18,
   "id": "5401799b",
   "metadata": {},
   "outputs": [
    {
     "name": "stdout",
     "output_type": "stream",
     "text": [
      "pick           97.529015\n",
      "Rec_Rank       69.627926\n",
      "dunks_ratio    54.898290\n",
      "mid_ratio      17.271933\n",
      "rim_ratio      16.872582\n",
      "                 ...    \n",
      "ftr             0.000000\n",
      "porpag          0.000000\n",
      "adjoe           0.000000\n",
      "pfr             0.000000\n",
      "drafted         0.000000\n",
      "Length: 63, dtype: float64\n"
     ]
    }
   ],
   "source": [
    "print(compute_missing_ratio(train))"
   ]
  },
  {
   "cell_type": "markdown",
   "id": "e64e0237",
   "metadata": {},
   "source": [
    "**[2.6]** drop the columns with high proportion of missing value"
   ]
  },
  {
   "cell_type": "code",
   "execution_count": 26,
   "id": "57dc0fa5",
   "metadata": {},
   "outputs": [],
   "source": [
    "train_cleaned = train.drop(['pick','Rec_Rank'], axis=1)"
   ]
  },
  {
   "cell_type": "markdown",
   "id": "05964c68",
   "metadata": {},
   "source": [
    "**[2.7]** Description of cleaned data"
   ]
  },
  {
   "cell_type": "code",
   "execution_count": 27,
   "id": "d5cede17",
   "metadata": {},
   "outputs": [
    {
     "data": {
      "text/html": [
       "<div>\n",
       "<style scoped>\n",
       "    .dataframe tbody tr th:only-of-type {\n",
       "        vertical-align: middle;\n",
       "    }\n",
       "\n",
       "    .dataframe tbody tr th {\n",
       "        vertical-align: top;\n",
       "    }\n",
       "\n",
       "    .dataframe thead th {\n",
       "        text-align: right;\n",
       "    }\n",
       "</style>\n",
       "<table border=\"1\" class=\"dataframe\">\n",
       "  <thead>\n",
       "    <tr style=\"text-align: right;\">\n",
       "      <th></th>\n",
       "      <th>GP</th>\n",
       "      <th>Min_per</th>\n",
       "      <th>Ortg</th>\n",
       "      <th>usg</th>\n",
       "      <th>eFG</th>\n",
       "      <th>TS_per</th>\n",
       "      <th>ORB_per</th>\n",
       "      <th>DRB_per</th>\n",
       "      <th>AST_per</th>\n",
       "      <th>TO_per</th>\n",
       "      <th>...</th>\n",
       "      <th>ogbpm</th>\n",
       "      <th>dgbpm</th>\n",
       "      <th>oreb</th>\n",
       "      <th>dreb</th>\n",
       "      <th>treb</th>\n",
       "      <th>ast</th>\n",
       "      <th>stl</th>\n",
       "      <th>blk</th>\n",
       "      <th>pts</th>\n",
       "      <th>drafted</th>\n",
       "    </tr>\n",
       "  </thead>\n",
       "  <tbody>\n",
       "    <tr>\n",
       "      <th>count</th>\n",
       "      <td>56091.000000</td>\n",
       "      <td>56091.000000</td>\n",
       "      <td>56091.000000</td>\n",
       "      <td>56091.000000</td>\n",
       "      <td>56091.000000</td>\n",
       "      <td>56091.000000</td>\n",
       "      <td>56091.000000</td>\n",
       "      <td>56091.000000</td>\n",
       "      <td>56091.000000</td>\n",
       "      <td>56091.000000</td>\n",
       "      <td>...</td>\n",
       "      <td>56047.000000</td>\n",
       "      <td>56047.000000</td>\n",
       "      <td>56053.000000</td>\n",
       "      <td>56053.000000</td>\n",
       "      <td>56053.000000</td>\n",
       "      <td>56053.000000</td>\n",
       "      <td>56053.000000</td>\n",
       "      <td>56053.000000</td>\n",
       "      <td>56053.000000</td>\n",
       "      <td>56091.000000</td>\n",
       "    </tr>\n",
       "    <tr>\n",
       "      <th>mean</th>\n",
       "      <td>23.411973</td>\n",
       "      <td>37.325229</td>\n",
       "      <td>91.858295</td>\n",
       "      <td>18.149265</td>\n",
       "      <td>44.575513</td>\n",
       "      <td>47.676882</td>\n",
       "      <td>5.575376</td>\n",
       "      <td>12.673716</td>\n",
       "      <td>10.848740</td>\n",
       "      <td>20.337819</td>\n",
       "      <td>...</td>\n",
       "      <td>-2.083375</td>\n",
       "      <td>-0.442297</td>\n",
       "      <td>0.770611</td>\n",
       "      <td>1.892593</td>\n",
       "      <td>2.663204</td>\n",
       "      <td>1.073038</td>\n",
       "      <td>0.529475</td>\n",
       "      <td>0.282825</td>\n",
       "      <td>5.775381</td>\n",
       "      <td>0.009556</td>\n",
       "    </tr>\n",
       "    <tr>\n",
       "      <th>std</th>\n",
       "      <td>10.090542</td>\n",
       "      <td>28.061897</td>\n",
       "      <td>30.538819</td>\n",
       "      <td>6.204489</td>\n",
       "      <td>18.213813</td>\n",
       "      <td>17.414133</td>\n",
       "      <td>9.480239</td>\n",
       "      <td>10.878099</td>\n",
       "      <td>9.356001</td>\n",
       "      <td>12.226129</td>\n",
       "      <td>...</td>\n",
       "      <td>6.190166</td>\n",
       "      <td>3.279438</td>\n",
       "      <td>0.738899</td>\n",
       "      <td>1.479148</td>\n",
       "      <td>2.099913</td>\n",
       "      <td>1.171148</td>\n",
       "      <td>0.469152</td>\n",
       "      <td>0.417754</td>\n",
       "      <td>4.953723</td>\n",
       "      <td>0.097287</td>\n",
       "    </tr>\n",
       "    <tr>\n",
       "      <th>min</th>\n",
       "      <td>1.000000</td>\n",
       "      <td>0.000000</td>\n",
       "      <td>0.000000</td>\n",
       "      <td>0.000000</td>\n",
       "      <td>0.000000</td>\n",
       "      <td>0.000000</td>\n",
       "      <td>0.000000</td>\n",
       "      <td>0.000000</td>\n",
       "      <td>0.000000</td>\n",
       "      <td>0.000000</td>\n",
       "      <td>...</td>\n",
       "      <td>-141.539000</td>\n",
       "      <td>-100.984000</td>\n",
       "      <td>0.000000</td>\n",
       "      <td>0.000000</td>\n",
       "      <td>0.000000</td>\n",
       "      <td>0.000000</td>\n",
       "      <td>0.000000</td>\n",
       "      <td>0.000000</td>\n",
       "      <td>0.000000</td>\n",
       "      <td>0.000000</td>\n",
       "    </tr>\n",
       "    <tr>\n",
       "      <th>25%</th>\n",
       "      <td>16.000000</td>\n",
       "      <td>9.500000</td>\n",
       "      <td>84.100000</td>\n",
       "      <td>14.500000</td>\n",
       "      <td>40.100000</td>\n",
       "      <td>43.930000</td>\n",
       "      <td>1.800000</td>\n",
       "      <td>8.400000</td>\n",
       "      <td>4.600000</td>\n",
       "      <td>14.800000</td>\n",
       "      <td>...</td>\n",
       "      <td>-4.426515</td>\n",
       "      <td>-1.728030</td>\n",
       "      <td>0.225800</td>\n",
       "      <td>0.700000</td>\n",
       "      <td>1.000000</td>\n",
       "      <td>0.222200</td>\n",
       "      <td>0.160000</td>\n",
       "      <td>0.000000</td>\n",
       "      <td>1.571400</td>\n",
       "      <td>0.000000</td>\n",
       "    </tr>\n",
       "    <tr>\n",
       "      <th>50%</th>\n",
       "      <td>28.000000</td>\n",
       "      <td>35.900000</td>\n",
       "      <td>97.100000</td>\n",
       "      <td>18.100000</td>\n",
       "      <td>47.700000</td>\n",
       "      <td>50.850000</td>\n",
       "      <td>4.300000</td>\n",
       "      <td>11.900000</td>\n",
       "      <td>9.100000</td>\n",
       "      <td>19.100000</td>\n",
       "      <td>...</td>\n",
       "      <td>-1.580380</td>\n",
       "      <td>-0.313051</td>\n",
       "      <td>0.545500</td>\n",
       "      <td>1.633300</td>\n",
       "      <td>2.259300</td>\n",
       "      <td>0.677400</td>\n",
       "      <td>0.424200</td>\n",
       "      <td>0.133300</td>\n",
       "      <td>4.482800</td>\n",
       "      <td>0.000000</td>\n",
       "    </tr>\n",
       "    <tr>\n",
       "      <th>75%</th>\n",
       "      <td>31.000000</td>\n",
       "      <td>62.200000</td>\n",
       "      <td>106.900000</td>\n",
       "      <td>21.800000</td>\n",
       "      <td>53.200000</td>\n",
       "      <td>56.060000</td>\n",
       "      <td>8.100000</td>\n",
       "      <td>16.000000</td>\n",
       "      <td>15.100000</td>\n",
       "      <td>24.500000</td>\n",
       "      <td>...</td>\n",
       "      <td>0.992335</td>\n",
       "      <td>1.066415</td>\n",
       "      <td>1.111100</td>\n",
       "      <td>2.758600</td>\n",
       "      <td>3.833300</td>\n",
       "      <td>1.533300</td>\n",
       "      <td>0.793100</td>\n",
       "      <td>0.366700</td>\n",
       "      <td>9.069000</td>\n",
       "      <td>0.000000</td>\n",
       "    </tr>\n",
       "    <tr>\n",
       "      <th>max</th>\n",
       "      <td>41.000000</td>\n",
       "      <td>98.000000</td>\n",
       "      <td>834.000000</td>\n",
       "      <td>50.000000</td>\n",
       "      <td>150.000000</td>\n",
       "      <td>150.000000</td>\n",
       "      <td>1576.600000</td>\n",
       "      <td>1385.000000</td>\n",
       "      <td>100.000000</td>\n",
       "      <td>100.000000</td>\n",
       "      <td>...</td>\n",
       "      <td>225.485000</td>\n",
       "      <td>78.985500</td>\n",
       "      <td>5.933300</td>\n",
       "      <td>11.545500</td>\n",
       "      <td>14.533300</td>\n",
       "      <td>10.000000</td>\n",
       "      <td>4.000000</td>\n",
       "      <td>5.258100</td>\n",
       "      <td>30.090900</td>\n",
       "      <td>1.000000</td>\n",
       "    </tr>\n",
       "  </tbody>\n",
       "</table>\n",
       "<p>8 rows × 55 columns</p>\n",
       "</div>"
      ],
      "text/plain": [
       "                 GP       Min_per          Ortg           usg           eFG  \\\n",
       "count  56091.000000  56091.000000  56091.000000  56091.000000  56091.000000   \n",
       "mean      23.411973     37.325229     91.858295     18.149265     44.575513   \n",
       "std       10.090542     28.061897     30.538819      6.204489     18.213813   \n",
       "min        1.000000      0.000000      0.000000      0.000000      0.000000   \n",
       "25%       16.000000      9.500000     84.100000     14.500000     40.100000   \n",
       "50%       28.000000     35.900000     97.100000     18.100000     47.700000   \n",
       "75%       31.000000     62.200000    106.900000     21.800000     53.200000   \n",
       "max       41.000000     98.000000    834.000000     50.000000    150.000000   \n",
       "\n",
       "             TS_per       ORB_per       DRB_per       AST_per        TO_per  \\\n",
       "count  56091.000000  56091.000000  56091.000000  56091.000000  56091.000000   \n",
       "mean      47.676882      5.575376     12.673716     10.848740     20.337819   \n",
       "std       17.414133      9.480239     10.878099      9.356001     12.226129   \n",
       "min        0.000000      0.000000      0.000000      0.000000      0.000000   \n",
       "25%       43.930000      1.800000      8.400000      4.600000     14.800000   \n",
       "50%       50.850000      4.300000     11.900000      9.100000     19.100000   \n",
       "75%       56.060000      8.100000     16.000000     15.100000     24.500000   \n",
       "max      150.000000   1576.600000   1385.000000    100.000000    100.000000   \n",
       "\n",
       "       ...         ogbpm         dgbpm          oreb          dreb  \\\n",
       "count  ...  56047.000000  56047.000000  56053.000000  56053.000000   \n",
       "mean   ...     -2.083375     -0.442297      0.770611      1.892593   \n",
       "std    ...      6.190166      3.279438      0.738899      1.479148   \n",
       "min    ...   -141.539000   -100.984000      0.000000      0.000000   \n",
       "25%    ...     -4.426515     -1.728030      0.225800      0.700000   \n",
       "50%    ...     -1.580380     -0.313051      0.545500      1.633300   \n",
       "75%    ...      0.992335      1.066415      1.111100      2.758600   \n",
       "max    ...    225.485000     78.985500      5.933300     11.545500   \n",
       "\n",
       "               treb           ast           stl           blk           pts  \\\n",
       "count  56053.000000  56053.000000  56053.000000  56053.000000  56053.000000   \n",
       "mean       2.663204      1.073038      0.529475      0.282825      5.775381   \n",
       "std        2.099913      1.171148      0.469152      0.417754      4.953723   \n",
       "min        0.000000      0.000000      0.000000      0.000000      0.000000   \n",
       "25%        1.000000      0.222200      0.160000      0.000000      1.571400   \n",
       "50%        2.259300      0.677400      0.424200      0.133300      4.482800   \n",
       "75%        3.833300      1.533300      0.793100      0.366700      9.069000   \n",
       "max       14.533300     10.000000      4.000000      5.258100     30.090900   \n",
       "\n",
       "            drafted  \n",
       "count  56091.000000  \n",
       "mean       0.009556  \n",
       "std        0.097287  \n",
       "min        0.000000  \n",
       "25%        0.000000  \n",
       "50%        0.000000  \n",
       "75%        0.000000  \n",
       "max        1.000000  \n",
       "\n",
       "[8 rows x 55 columns]"
      ]
     },
     "execution_count": 27,
     "metadata": {},
     "output_type": "execute_result"
    }
   ],
   "source": [
    "train_cleaned.describe()"
   ]
  },
  {
   "cell_type": "markdown",
   "id": "0f23c80c",
   "metadata": {},
   "source": [
    "We can see there are some negative values in our dataset, but negative values are usually not present in this case, we may handle this problem in the data preprocess step"
   ]
  },
  {
   "cell_type": "markdown",
   "id": "167175af",
   "metadata": {},
   "source": [
    "**[2.8]** Distribution of Y"
   ]
  },
  {
   "cell_type": "code",
   "execution_count": 28,
   "id": "cb76f67d",
   "metadata": {},
   "outputs": [],
   "source": [
    "# Extract the target variable into a variable called y\n",
    "df, y = DataProcessor.separate_target_variable(train_cleaned, 'drafted')"
   ]
  },
  {
   "cell_type": "code",
   "execution_count": 29,
   "id": "42b8016f",
   "metadata": {},
   "outputs": [
    {
     "data": {
      "text/plain": [
       "0.0    55555\n",
       "1.0      536\n",
       "Name: drafted, dtype: int64"
      ]
     },
     "execution_count": 29,
     "metadata": {},
     "output_type": "execute_result"
    }
   ],
   "source": [
    "y.value_counts()"
   ]
  },
  {
   "cell_type": "code",
   "execution_count": 30,
   "id": "a0dae55a",
   "metadata": {},
   "outputs": [
    {
     "data": {
      "image/png": "[encoded data removed]",
      "text/plain": [
       "<Figure size 640x480 with 1 Axes>"
      ]
     },
     "metadata": {},
     "output_type": "display_data"
    }
   ],
   "source": [
    "# Calculate positive and negative sample ratios\n",
    "sizes = y.value_counts(normalize=True).plot(kind=\"bar\", color=[\"red\", \"blue\"])"
   ]
  },
  {
   "cell_type": "markdown",
   "id": "ca4c3ce6",
   "metadata": {},
   "source": [
    "## 3. Data Preparation"
   ]
  },
  {
   "cell_type": "markdown",
   "id": "186886e3",
   "metadata": {},
   "source": [
    "**[3.1]** identify numeric features and categorical features"
   ]
  },
  {
   "cell_type": "code",
   "execution_count": 32,
   "id": "188dac75",
   "metadata": {},
   "outputs": [],
   "source": [
    "num_cols, cat_cols = DataProcessor.get_feature_types(df)"
   ]
  },
  {
   "cell_type": "markdown",
   "id": "6085a8cc",
   "metadata": {},
   "source": [
    "**[3.2]** convert the value of categorical features to string format"
   ]
  },
  {
   "cell_type": "code",
   "execution_count": 33,
   "id": "d4d06885",
   "metadata": {},
   "outputs": [],
   "source": [
    "def convert_to_string(X):\n",
    "    return X.astype(str)\n",
    "\n",
    "stringify_transformer = FunctionTransformer(func=convert_to_string, validate=False)"
   ]
  },
  {
   "cell_type": "markdown",
   "id": "2717b117",
   "metadata": {},
   "source": [
    "**[3.3]** filling the missing value with \"missing\" "
   ]
  },
  {
   "cell_type": "code",
   "execution_count": 34,
   "id": "6ef45663",
   "metadata": {},
   "outputs": [],
   "source": [
    "categorical_transformer = Pipeline(steps=[\n",
    "    ('stringify', stringify_transformer),\n",
    "    ('imputer', SimpleImputer(strategy='constant', fill_value='Missing')),\n",
    "    ('encoder', OrdinalEncoder(handle_unknown='use_encoded_value', unknown_value=-1))\n",
    "])"
   ]
  },
  {
   "cell_type": "markdown",
   "id": "b5dc4ff0",
   "metadata": {},
   "source": [
    "**[3.4]** encoding categorical features"
   ]
  },
  {
   "cell_type": "code",
   "execution_count": 35,
   "id": "74c07a0a",
   "metadata": {},
   "outputs": [],
   "source": [
    "preprocessor = ColumnTransformer(\n",
    "    transformers=[\n",
    "        ('cat', categorical_transformer, cat_cols)\n",
    "    ],\n",
    "    remainder='passthrough')"
   ]
  },
  {
   "cell_type": "markdown",
   "id": "aa7a9a6e",
   "metadata": {},
   "source": [
    "## 4. Train model"
   ]
  },
  {
   "cell_type": "markdown",
   "id": "bf69cfb6",
   "metadata": {},
   "source": [
    "**[4.1]** defining the pipeline of preprocessor and trainer"
   ]
  },
  {
   "cell_type": "code",
   "execution_count": 36,
   "id": "f23fdeec",
   "metadata": {},
   "outputs": [],
   "source": [
    "# Create Pipeline\n",
    "pipeline = Pipeline([\n",
    "    ('preprocessor', preprocessor),\n",
    "    ('classifier', LGBMClassifier(class_weight='balanced', random_state=42))\n",
    "])"
   ]
  },
  {
   "cell_type": "markdown",
   "id": "ae043461",
   "metadata": {},
   "source": [
    "**[4.2]** defining the hyper-parameters"
   ]
  },
  {
   "cell_type": "code",
   "execution_count": 37,
   "id": "e4158a80",
   "metadata": {},
   "outputs": [],
   "source": [
    "# Define parameter grid\n",
    "param_grid = {\n",
    "    'classifier__learning_rate': [0.01, 0.1, 1],\n",
    "    'classifier__n_estimators': [20, 50, 100, 200, 500],\n",
    "    'classifier__num_leaves': [31, 62, 93],\n",
    "    'classifier__reg_alpha': [0.0, 0.1, 0.5, 1.0],  # Add L1 regularization\n",
    "    'classifier__reg_lambda': [0.0, 0.1, 0.5, 1.0], # Add L2 regularization\n",
    "}\n",
    "\n",
    "# Create GridSearchCV\n",
    "grid_search = GridSearchCV(estimator=pipeline, param_grid=param_grid, scoring='roc_auc', cv=5, n_jobs=-1, verbose=1)"
   ]
  },
  {
   "cell_type": "markdown",
   "id": "10543de1",
   "metadata": {},
   "source": [
    "**[4.2]** Fit the GridSearchCV "
   ]
  },
  {
   "cell_type": "code",
   "execution_count": 38,
   "id": "95f21d32",
   "metadata": {},
   "outputs": [
    {
     "name": "stdout",
     "output_type": "stream",
     "text": [
      "Fitting 5 folds for each of 720 candidates, totalling 3600 fits\n"
     ]
    },
    {
     "data": {
      "text/html": [
       "<style>#sk-container-id-1 {color: black;background-color: white;}#sk-container-id-1 pre{padding: 0;}#sk-container-id-1 div.sk-toggleable {background-color: white;}#sk-container-id-1 label.sk-toggleable__label {cursor: pointer;display: block;width: 100%;margin-bottom: 0;padding: 0.3em;box-sizing: border-box;text-align: center;}#sk-container-id-1 label.sk-toggleable__label-arrow:before {content: \"▸\";float: left;margin-right: 0.25em;color: #696969;}#sk-container-id-1 label.sk-toggleable__label-arrow:hover:before {color: black;}#sk-container-id-1 div.sk-estimator:hover label.sk-toggleable__label-arrow:before {color: black;}#sk-container-id-1 div.sk-toggleable__content {max-height: 0;max-width: 0;overflow: hidden;text-align: left;background-color: #f0f8ff;}#sk-container-id-1 div.sk-toggleable__content pre {margin: 0.2em;color: black;border-radius: 0.25em;background-color: #f0f8ff;}#sk-container-id-1 input.sk-toggleable__control:checked~div.sk-toggleable__content {max-height: 200px;max-width: 100%;overflow: auto;}#sk-container-id-1 input.sk-toggleable__control:checked~label.sk-toggleable__label-arrow:before {content: \"▾\";}#sk-container-id-1 div.sk-estimator input.sk-toggleable__control:checked~label.sk-toggleable__label {background-color: #d4ebff;}#sk-container-id-1 div.sk-label input.sk-toggleable__control:checked~label.sk-toggleable__label {background-color: #d4ebff;}#sk-container-id-1 input.sk-hidden--visually {border: 0;clip: rect(1px 1px 1px 1px);clip: rect(1px, 1px, 1px, 1px);height: 1px;margin: -1px;overflow: hidden;padding: 0;position: absolute;width: 1px;}#sk-container-id-1 div.sk-estimator {font-family: monospace;background-color: #f0f8ff;border: 1px dotted black;border-radius: 0.25em;box-sizing: border-box;margin-bottom: 0.5em;}#sk-container-id-1 div.sk-estimator:hover {background-color: #d4ebff;}#sk-container-id-1 div.sk-parallel-item::after {content: \"\";width: 100%;border-bottom: 1px solid gray;flex-grow: 1;}#sk-container-id-1 div.sk-label:hover label.sk-toggleable__label {background-color: #d4ebff;}#sk-container-id-1 div.sk-serial::before {content: \"\";position: absolute;border-left: 1px solid gray;box-sizing: border-box;top: 0;bottom: 0;left: 50%;z-index: 0;}#sk-container-id-1 div.sk-serial {display: flex;flex-direction: column;align-items: center;background-color: white;padding-right: 0.2em;padding-left: 0.2em;position: relative;}#sk-container-id-1 div.sk-item {position: relative;z-index: 1;}#sk-container-id-1 div.sk-parallel {display: flex;align-items: stretch;justify-content: center;background-color: white;position: relative;}#sk-container-id-1 div.sk-item::before, #sk-container-id-1 div.sk-parallel-item::before {content: \"\";position: absolute;border-left: 1px solid gray;box-sizing: border-box;top: 0;bottom: 0;left: 50%;z-index: -1;}#sk-container-id-1 div.sk-parallel-item {display: flex;flex-direction: column;z-index: 1;position: relative;background-color: white;}#sk-container-id-1 div.sk-parallel-item:first-child::after {align-self: flex-end;width: 50%;}#sk-container-id-1 div.sk-parallel-item:last-child::after {align-self: flex-start;width: 50%;}#sk-container-id-1 div.sk-parallel-item:only-child::after {width: 0;}#sk-container-id-1 div.sk-dashed-wrapped {border: 1px dashed gray;margin: 0 0.4em 0.5em 0.4em;box-sizing: border-box;padding-bottom: 0.4em;background-color: white;}#sk-container-id-1 div.sk-label label {font-family: monospace;font-weight: bold;display: inline-block;line-height: 1.2em;}#sk-container-id-1 div.sk-label-container {text-align: center;}#sk-container-id-1 div.sk-container {/* jupyter's `normalize.less` sets `[hidden] { display: none; }` but bootstrap.min.css set `[hidden] { display: none !important; }` so we also need the `!important` here to be able to override the default hidden behavior on the sphinx rendered scikit-learn.org. See: https://github.com/scikit-learn/scikit-learn/issues/21755 */display: inline-block !important;position: relative;}#sk-container-id-1 div.sk-text-repr-fallback {display: none;}</style><div id=\"sk-container-id-1\" class=\"sk-top-container\"><div class=\"sk-text-repr-fallback\"><pre>GridSearchCV(cv=5,\n",
       "             estimator=Pipeline(steps=[(&#x27;preprocessor&#x27;,\n",
       "                                        ColumnTransformer(remainder=&#x27;passthrough&#x27;,\n",
       "                                                          transformers=[(&#x27;cat&#x27;,\n",
       "                                                                         Pipeline(steps=[(&#x27;stringify&#x27;,\n",
       "                                                                                          FunctionTransformer(func=&lt;function convert_to_string at 0x7ff1806cb5e0&gt;)),\n",
       "                                                                                         (&#x27;imputer&#x27;,\n",
       "                                                                                          SimpleImputer(fill_value=&#x27;Missing&#x27;,\n",
       "                                                                                                        strategy=&#x27;constant&#x27;)),\n",
       "                                                                                         (&#x27;encoder&#x27;,\n",
       "                                                                                          OrdinalEncoder(handle_unknown=&#x27;use_encoded_value...\n",
       "                                                                         Index([&#x27;team&#x27;, &#x27;conf&#x27;, &#x27;yr&#x27;, &#x27;ht&#x27;, &#x27;num&#x27;, &#x27;type&#x27;], dtype=&#x27;object&#x27;))])),\n",
       "                                       (&#x27;classifier&#x27;,\n",
       "                                        LGBMClassifier(class_weight=&#x27;balanced&#x27;,\n",
       "                                                       random_state=42))]),\n",
       "             n_jobs=-1,\n",
       "             param_grid={&#x27;classifier__learning_rate&#x27;: [0.01, 0.1, 1],\n",
       "                         &#x27;classifier__n_estimators&#x27;: [20, 50, 100, 200, 500],\n",
       "                         &#x27;classifier__num_leaves&#x27;: [31, 62, 93],\n",
       "                         &#x27;classifier__reg_alpha&#x27;: [0.0, 0.1, 0.5, 1.0],\n",
       "                         &#x27;classifier__reg_lambda&#x27;: [0.0, 0.1, 0.5, 1.0]},\n",
       "             scoring=&#x27;roc_auc&#x27;, verbose=1)</pre><b>In a Jupyter environment, please rerun this cell to show the HTML representation or trust the notebook. <br />On GitHub, the HTML representation is unable to render, please try loading this page with nbviewer.org.</b></div><div class=\"sk-container\" hidden><div class=\"sk-item sk-dashed-wrapped\"><div class=\"sk-label-container\"><div class=\"sk-label sk-toggleable\"><input class=\"sk-toggleable__control sk-hidden--visually\" id=\"sk-estimator-id-1\" type=\"checkbox\" ><label for=\"sk-estimator-id-1\" class=\"sk-toggleable__label sk-toggleable__label-arrow\">GridSearchCV</label><div class=\"sk-toggleable__content\"><pre>GridSearchCV(cv=5,\n",
       "             estimator=Pipeline(steps=[(&#x27;preprocessor&#x27;,\n",
       "                                        ColumnTransformer(remainder=&#x27;passthrough&#x27;,\n",
       "                                                          transformers=[(&#x27;cat&#x27;,\n",
       "                                                                         Pipeline(steps=[(&#x27;stringify&#x27;,\n",
       "                                                                                          FunctionTransformer(func=&lt;function convert_to_string at 0x7ff1806cb5e0&gt;)),\n",
       "                                                                                         (&#x27;imputer&#x27;,\n",
       "                                                                                          SimpleImputer(fill_value=&#x27;Missing&#x27;,\n",
       "                                                                                                        strategy=&#x27;constant&#x27;)),\n",
       "                                                                                         (&#x27;encoder&#x27;,\n",
       "                                                                                          OrdinalEncoder(handle_unknown=&#x27;use_encoded_value...\n",
       "                                                                         Index([&#x27;team&#x27;, &#x27;conf&#x27;, &#x27;yr&#x27;, &#x27;ht&#x27;, &#x27;num&#x27;, &#x27;type&#x27;], dtype=&#x27;object&#x27;))])),\n",
       "                                       (&#x27;classifier&#x27;,\n",
       "                                        LGBMClassifier(class_weight=&#x27;balanced&#x27;,\n",
       "                                                       random_state=42))]),\n",
       "             n_jobs=-1,\n",
       "             param_grid={&#x27;classifier__learning_rate&#x27;: [0.01, 0.1, 1],\n",
       "                         &#x27;classifier__n_estimators&#x27;: [20, 50, 100, 200, 500],\n",
       "                         &#x27;classifier__num_leaves&#x27;: [31, 62, 93],\n",
       "                         &#x27;classifier__reg_alpha&#x27;: [0.0, 0.1, 0.5, 1.0],\n",
       "                         &#x27;classifier__reg_lambda&#x27;: [0.0, 0.1, 0.5, 1.0]},\n",
       "             scoring=&#x27;roc_auc&#x27;, verbose=1)</pre></div></div></div><div class=\"sk-parallel\"><div class=\"sk-parallel-item\"><div class=\"sk-item\"><div class=\"sk-label-container\"><div class=\"sk-label sk-toggleable\"><input class=\"sk-toggleable__control sk-hidden--visually\" id=\"sk-estimator-id-2\" type=\"checkbox\" ><label for=\"sk-estimator-id-2\" class=\"sk-toggleable__label sk-toggleable__label-arrow\">estimator: Pipeline</label><div class=\"sk-toggleable__content\"><pre>Pipeline(steps=[(&#x27;preprocessor&#x27;,\n",
       "                 ColumnTransformer(remainder=&#x27;passthrough&#x27;,\n",
       "                                   transformers=[(&#x27;cat&#x27;,\n",
       "                                                  Pipeline(steps=[(&#x27;stringify&#x27;,\n",
       "                                                                   FunctionTransformer(func=&lt;function convert_to_string at 0x7ff1806cb5e0&gt;)),\n",
       "                                                                  (&#x27;imputer&#x27;,\n",
       "                                                                   SimpleImputer(fill_value=&#x27;Missing&#x27;,\n",
       "                                                                                 strategy=&#x27;constant&#x27;)),\n",
       "                                                                  (&#x27;encoder&#x27;,\n",
       "                                                                   OrdinalEncoder(handle_unknown=&#x27;use_encoded_value&#x27;,\n",
       "                                                                                  unknown_value=-1))]),\n",
       "                                                  Index([&#x27;team&#x27;, &#x27;conf&#x27;, &#x27;yr&#x27;, &#x27;ht&#x27;, &#x27;num&#x27;, &#x27;type&#x27;], dtype=&#x27;object&#x27;))])),\n",
       "                (&#x27;classifier&#x27;,\n",
       "                 LGBMClassifier(class_weight=&#x27;balanced&#x27;, random_state=42))])</pre></div></div></div><div class=\"sk-serial\"><div class=\"sk-item\"><div class=\"sk-serial\"><div class=\"sk-item sk-dashed-wrapped\"><div class=\"sk-label-container\"><div class=\"sk-label sk-toggleable\"><input class=\"sk-toggleable__control sk-hidden--visually\" id=\"sk-estimator-id-3\" type=\"checkbox\" ><label for=\"sk-estimator-id-3\" class=\"sk-toggleable__label sk-toggleable__label-arrow\">preprocessor: ColumnTransformer</label><div class=\"sk-toggleable__content\"><pre>ColumnTransformer(remainder=&#x27;passthrough&#x27;,\n",
       "                  transformers=[(&#x27;cat&#x27;,\n",
       "                                 Pipeline(steps=[(&#x27;stringify&#x27;,\n",
       "                                                  FunctionTransformer(func=&lt;function convert_to_string at 0x7ff1806cb5e0&gt;)),\n",
       "                                                 (&#x27;imputer&#x27;,\n",
       "                                                  SimpleImputer(fill_value=&#x27;Missing&#x27;,\n",
       "                                                                strategy=&#x27;constant&#x27;)),\n",
       "                                                 (&#x27;encoder&#x27;,\n",
       "                                                  OrdinalEncoder(handle_unknown=&#x27;use_encoded_value&#x27;,\n",
       "                                                                 unknown_value=-1))]),\n",
       "                                 Index([&#x27;team&#x27;, &#x27;conf&#x27;, &#x27;yr&#x27;, &#x27;ht&#x27;, &#x27;num&#x27;, &#x27;type&#x27;], dtype=&#x27;object&#x27;))])</pre></div></div></div><div class=\"sk-parallel\"><div class=\"sk-parallel-item\"><div class=\"sk-item\"><div class=\"sk-label-container\"><div class=\"sk-label sk-toggleable\"><input class=\"sk-toggleable__control sk-hidden--visually\" id=\"sk-estimator-id-4\" type=\"checkbox\" ><label for=\"sk-estimator-id-4\" class=\"sk-toggleable__label sk-toggleable__label-arrow\">cat</label><div class=\"sk-toggleable__content\"><pre>Index([&#x27;team&#x27;, &#x27;conf&#x27;, &#x27;yr&#x27;, &#x27;ht&#x27;, &#x27;num&#x27;, &#x27;type&#x27;], dtype=&#x27;object&#x27;)</pre></div></div></div><div class=\"sk-serial\"><div class=\"sk-item\"><div class=\"sk-serial\"><div class=\"sk-item\"><div class=\"sk-estimator sk-toggleable\"><input class=\"sk-toggleable__control sk-hidden--visually\" id=\"sk-estimator-id-5\" type=\"checkbox\" ><label for=\"sk-estimator-id-5\" class=\"sk-toggleable__label sk-toggleable__label-arrow\">FunctionTransformer</label><div class=\"sk-toggleable__content\"><pre>FunctionTransformer(func=&lt;function convert_to_string at 0x7ff1806cb5e0&gt;)</pre></div></div></div><div class=\"sk-item\"><div class=\"sk-estimator sk-toggleable\"><input class=\"sk-toggleable__control sk-hidden--visually\" id=\"sk-estimator-id-6\" type=\"checkbox\" ><label for=\"sk-estimator-id-6\" class=\"sk-toggleable__label sk-toggleable__label-arrow\">SimpleImputer</label><div class=\"sk-toggleable__content\"><pre>SimpleImputer(fill_value=&#x27;Missing&#x27;, strategy=&#x27;constant&#x27;)</pre></div></div></div><div class=\"sk-item\"><div class=\"sk-estimator sk-toggleable\"><input class=\"sk-toggleable__control sk-hidden--visually\" id=\"sk-estimator-id-7\" type=\"checkbox\" ><label for=\"sk-estimator-id-7\" class=\"sk-toggleable__label sk-toggleable__label-arrow\">OrdinalEncoder</label><div class=\"sk-toggleable__content\"><pre>OrdinalEncoder(handle_unknown=&#x27;use_encoded_value&#x27;, unknown_value=-1)</pre></div></div></div></div></div></div></div></div><div class=\"sk-parallel-item\"><div class=\"sk-item\"><div class=\"sk-label-container\"><div class=\"sk-label sk-toggleable\"><input class=\"sk-toggleable__control sk-hidden--visually\" id=\"sk-estimator-id-8\" type=\"checkbox\" ><label for=\"sk-estimator-id-8\" class=\"sk-toggleable__label sk-toggleable__label-arrow\">remainder</label><div class=\"sk-toggleable__content\"><pre></pre></div></div></div><div class=\"sk-serial\"><div class=\"sk-item\"><div class=\"sk-estimator sk-toggleable\"><input class=\"sk-toggleable__control sk-hidden--visually\" id=\"sk-estimator-id-9\" type=\"checkbox\" ><label for=\"sk-estimator-id-9\" class=\"sk-toggleable__label sk-toggleable__label-arrow\">passthrough</label><div class=\"sk-toggleable__content\"><pre>passthrough</pre></div></div></div></div></div></div></div></div><div class=\"sk-item\"><div class=\"sk-estimator sk-toggleable\"><input class=\"sk-toggleable__control sk-hidden--visually\" id=\"sk-estimator-id-10\" type=\"checkbox\" ><label for=\"sk-estimator-id-10\" class=\"sk-toggleable__label sk-toggleable__label-arrow\">LGBMClassifier</label><div class=\"sk-toggleable__content\"><pre>LGBMClassifier(class_weight=&#x27;balanced&#x27;, random_state=42)</pre></div></div></div></div></div></div></div></div></div></div></div></div>"
      ],
      "text/plain": [
       "GridSearchCV(cv=5,\n",
       "             estimator=Pipeline(steps=[('preprocessor',\n",
       "                                        ColumnTransformer(remainder='passthrough',\n",
       "                                                          transformers=[('cat',\n",
       "                                                                         Pipeline(steps=[('stringify',\n",
       "                                                                                          FunctionTransformer(func=<function convert_to_string at 0x7ff1806cb5e0>)),\n",
       "                                                                                         ('imputer',\n",
       "                                                                                          SimpleImputer(fill_value='Missing',\n",
       "                                                                                                        strategy='constant')),\n",
       "                                                                                         ('encoder',\n",
       "                                                                                          OrdinalEncoder(handle_unknown='use_encoded_value...\n",
       "                                                                         Index(['team', 'conf', 'yr', 'ht', 'num', 'type'], dtype='object'))])),\n",
       "                                       ('classifier',\n",
       "                                        LGBMClassifier(class_weight='balanced',\n",
       "                                                       random_state=42))]),\n",
       "             n_jobs=-1,\n",
       "             param_grid={'classifier__learning_rate': [0.01, 0.1, 1],\n",
       "                         'classifier__n_estimators': [20, 50, 100, 200, 500],\n",
       "                         'classifier__num_leaves': [31, 62, 93],\n",
       "                         'classifier__reg_alpha': [0.0, 0.1, 0.5, 1.0],\n",
       "                         'classifier__reg_lambda': [0.0, 0.1, 0.5, 1.0]},\n",
       "             scoring='roc_auc', verbose=1)"
      ]
     },
     "execution_count": 38,
     "metadata": {},
     "output_type": "execute_result"
    }
   ],
   "source": [
    "grid_search.fit(df, y)"
   ]
  },
  {
   "cell_type": "markdown",
   "id": "654b4a15",
   "metadata": {},
   "source": [
    "**[4.3]**  Get the best model"
   ]
  },
  {
   "cell_type": "code",
   "execution_count": 39,
   "id": "16acc27c",
   "metadata": {},
   "outputs": [],
   "source": [
    "best_model = grid_search.best_estimator_"
   ]
  },
  {
   "cell_type": "markdown",
   "id": "e926f11b",
   "metadata": {},
   "source": [
    "**[4.4]**  Print the best parameters"
   ]
  },
  {
   "cell_type": "code",
   "execution_count": 40,
   "id": "ef79414b",
   "metadata": {},
   "outputs": [
    {
     "name": "stdout",
     "output_type": "stream",
     "text": [
      "Best parameters found:  {'classifier__learning_rate': 0.1, 'classifier__n_estimators': 200, 'classifier__num_leaves': 93, 'classifier__reg_alpha': 1.0, 'classifier__reg_lambda': 0.5}\n"
     ]
    }
   ],
   "source": [
    "print(\"Best parameters found: \", grid_search.best_params_)"
   ]
  },
  {
   "cell_type": "code",
   "execution_count": 41,
   "id": "0acc16dc",
   "metadata": {},
   "outputs": [
    {
     "name": "stdout",
     "output_type": "stream",
     "text": [
      "Best AUC: 0.9855412012064046\n"
     ]
    }
   ],
   "source": [
    "print(\"Best AUC:\", grid_search.best_score_)"
   ]
  },
  {
   "cell_type": "markdown",
   "id": "a052c942",
   "metadata": {},
   "source": [
    "**[4.5]**  save the best model"
   ]
  },
  {
   "cell_type": "code",
   "execution_count": null,
   "id": "27ae3d43",
   "metadata": {},
   "outputs": [],
   "source": [
    "import joblib\n",
    "\n",
    "joblib.dump(best_model, 'models/best_model_week1.joblib')"
   ]
  },
  {
   "cell_type": "markdown",
   "id": "06a7efd2",
   "metadata": {},
   "source": [
    "## 5. Prediction on test data"
   ]
  },
  {
   "cell_type": "markdown",
   "id": "8f492b7f",
   "metadata": {},
   "source": [
    "Finally we applied the trained model on test data and upload our result to obtain score"
   ]
  },
  {
   "cell_type": "markdown",
   "id": "892dad70",
   "metadata": {},
   "source": [
    "**[5.1]** Load dataset"
   ]
  },
  {
   "cell_type": "code",
   "execution_count": 44,
   "id": "96e5f975",
   "metadata": {},
   "outputs": [],
   "source": [
    "test = DataProcessor.load_and_preprocess('data/raw/test.csv')"
   ]
  },
  {
   "cell_type": "code",
   "execution_count": 45,
   "id": "5096cf35",
   "metadata": {},
   "outputs": [
    {
     "data": {
      "text/plain": [
       "Index(['team', 'conf', 'GP', 'Min_per', 'Ortg', 'usg', 'eFG', 'TS_per',\n",
       "       'ORB_per', 'DRB_per', 'AST_per', 'TO_per', 'FTM', 'FTA', 'FT_per',\n",
       "       'twoPM', 'twoPA', 'twoP_per', 'TPM', 'TPA', 'TP_per', 'blk_per',\n",
       "       'stl_per', 'ftr', 'yr', 'ht', 'num', 'porpag', 'adjoe', 'pfr', 'year',\n",
       "       'type', 'Rec_Rank', 'ast_tov', 'rimmade', 'rimmade_rimmiss', 'midmade',\n",
       "       'midmade_midmiss', 'rim_ratio', 'mid_ratio', 'dunksmade',\n",
       "       'dunksmiss_dunksmade', 'dunks_ratio', 'pick', 'drtg', 'adrtg',\n",
       "       'dporpag', 'stops', 'bpm', 'obpm', 'dbpm', 'gbpm', 'mp', 'ogbpm',\n",
       "       'dgbpm', 'oreb', 'dreb', 'treb', 'ast', 'stl', 'blk', 'pts'],\n",
       "      dtype='object')"
      ]
     },
     "execution_count": 45,
     "metadata": {},
     "output_type": "execute_result"
    }
   ],
   "source": [
    "test.columns"
   ]
  },
  {
   "cell_type": "markdown",
   "id": "362742f0",
   "metadata": {},
   "source": [
    "**[5.2]** Load model"
   ]
  },
  {
   "cell_type": "code",
   "execution_count": 46,
   "id": "93e0a5ef",
   "metadata": {},
   "outputs": [],
   "source": [
    "import joblib\n",
    "\n",
    "# Load the model from the file \n",
    "load_model = joblib.load('models/best_model_week1.joblib') "
   ]
  },
  {
   "cell_type": "markdown",
   "id": "4b8885fa",
   "metadata": {},
   "source": [
    "**[5.3]**  Use the best estimator to predict on the test data\n"
   ]
  },
  {
   "cell_type": "code",
   "execution_count": 47,
   "id": "23da9b97",
   "metadata": {},
   "outputs": [],
   "source": [
    "y_pred = load_model.predict(test)\n",
    "y_pred_proba = load_model.predict_proba(test)[:, 1]"
   ]
  },
  {
   "cell_type": "code",
   "execution_count": 48,
   "id": "3ef02787",
   "metadata": {},
   "outputs": [],
   "source": [
    "test['drafted'] = y_pred_proba "
   ]
  },
  {
   "cell_type": "code",
   "execution_count": 49,
   "id": "dd3a408b",
   "metadata": {},
   "outputs": [
    {
     "data": {
      "text/plain": [
       "player_id\n",
       "cf302b4d-84f7-4124-a25d-a75eed31978b    0.000013\n",
       "f91837cd-4f49-4b70-963d-aeb82c6ce3da    0.000009\n",
       "53ec2a29-1e7d-4c6d-86d7-d60d02af8916    0.000156\n",
       "32402798-471c-4a54-8cb4-29cd95199014    0.000040\n",
       "73b960f9-27b8-4431-9d23-a760e9bbc360    0.000126\n",
       "                                          ...   \n",
       "a25ee55f-02a3-4f8e-8194-a5f427e14e7c    0.000201\n",
       "d0d9f45e-7b01-44b3-8d40-514ec338611d    0.000020\n",
       "f8df22c4-1602-4fab-896d-8820951aae2f    0.000020\n",
       "b791c69a-f769-4163-afda-051a6fd20a9d    0.000019\n",
       "18b51f5d-4746-4121-88fd-c8d0a1399130    0.000080\n",
       "Name: drafted, Length: 4970, dtype: float64"
      ]
     },
     "execution_count": 49,
     "metadata": {},
     "output_type": "execute_result"
    }
   ],
   "source": [
    "test['drafted']"
   ]
  },
  {
   "cell_type": "markdown",
   "id": "bfd96dd0",
   "metadata": {},
   "source": [
    "**[5.4]** save the result"
   ]
  },
  {
   "cell_type": "code",
   "execution_count": null,
   "id": "b1701158",
   "metadata": {},
   "outputs": [],
   "source": [
    "test['drafted'].to_csv('submission.csv')"
   ]
  },
  {
   "cell_type": "markdown",
   "id": "e3f3a0cf",
   "metadata": {},
   "source": [
    "## 6. Feature importance"
   ]
  },
  {
   "cell_type": "markdown",
   "id": "0ad7dc21",
   "metadata": {},
   "source": [
    "**[6.1]** compute feature importance and plot feature importance"
   ]
  },
  {
   "cell_type": "code",
   "execution_count": 51,
   "id": "439fce59",
   "metadata": {},
   "outputs": [],
   "source": [
    "from src.visualization.FeatureImportant import FeatureImportance"
   ]
  },
  {
   "cell_type": "code",
   "execution_count": 53,
   "id": "bb436ae3",
   "metadata": {},
   "outputs": [
    {
     "data": {
      "image/png": "[encoded data removed]",
      "text/plain": [
       "<Figure size 2000x1000 with 1 Axes>"
      ]
     },
     "metadata": {},
     "output_type": "display_data"
    }
   ],
   "source": [
    "FeatureImportance.compute_and_plot(load_model , df.columns)"
   ]
  },
  {
   "cell_type": "markdown",
   "id": "fe912eaa",
   "metadata": {},
   "source": [
    "## 7. Push changes"
   ]
  },
  {
   "cell_type": "markdown",
   "id": "546e29f7",
   "metadata": {},
   "source": [
    "**[7.1]** Add the changes to git staging area"
   ]
  },
  {
   "cell_type": "code",
   "execution_count": null,
   "id": "c2419478",
   "metadata": {},
   "outputs": [],
   "source": [
    "git add ."
   ]
  },
  {
   "cell_type": "markdown",
   "id": "fe53df48",
   "metadata": {},
   "source": [
    "**[7.2]** Create the snapshot of the repository and add a description"
   ]
  },
  {
   "cell_type": "code",
   "execution_count": null,
   "id": "27e9416e",
   "metadata": {},
   "outputs": [],
   "source": [
    "git commit -m \"first experiment\""
   ]
  },
  {
   "cell_type": "markdown",
   "id": "d1a1f325",
   "metadata": {},
   "source": [
    "**[7.3]** Push snapshot to Github"
   ]
  },
  {
   "cell_type": "code",
   "execution_count": null,
   "id": "aba75f9f",
   "metadata": {},
   "outputs": [],
   "source": [
    "git push "
   ]
  },
  {
   "cell_type": "markdown",
   "id": "26a2ae58",
   "metadata": {},
   "source": [
    "## Reference"
   ]
  },
  {
   "cell_type": "markdown",
   "id": "5fdfdc4c",
   "metadata": {},
   "source": [
    "So, A. (2023). 36114_AdvDSI_Lab2_Exercise3_Solutions. https://drive.google.com/file/d/17UpMxkj4slAQ2BDyAeNEYzUfTA9Ww3x6/view"
   ]
  }
 ],
 "metadata": {
  "kernelspec": {
   "display_name": "Python 3 (ipykernel)",
   "language": "python",
   "name": "python3"
  },
  "language_info": {
   "codemirror_mode": {
    "name": "ipython",
    "version": 3
   },
   "file_extension": ".py",
   "mimetype": "text/x-python",
   "name": "python",
   "nbconvert_exporter": "python",
   "pygments_lexer": "ipython3",
   "version": "3.9.0"
  }
 },
 "nbformat": 4,
 "nbformat_minor": 5
}
